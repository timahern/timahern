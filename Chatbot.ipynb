{
 "cells": [
  {
   "cell_type": "code",
   "execution_count": 1,
   "id": "977eb502",
   "metadata": {},
   "outputs": [],
   "source": [
    "#import libraries\n",
    "from newspaper import Article\n",
    "import random\n",
    "import nltk\n",
    "import string\n",
    "from sklearn.feature_extraction.text import CountVectorizer\n",
    "from sklearn.metrics.pairwise import cosine_similarity"
   ]
  },
  {
   "cell_type": "code",
   "execution_count": 2,
   "id": "5922b6df",
   "metadata": {},
   "outputs": [],
   "source": [
    "import numpy as np\n",
    "import warnings\n",
    "warnings.filterwarnings('ignore')\n"
   ]
  },
  {
   "cell_type": "code",
   "execution_count": 3,
   "id": "d6addae1",
   "metadata": {},
   "outputs": [
    {
     "name": "stderr",
     "output_type": "stream",
     "text": [
      "[nltk_data] Downloading package punkt to\n",
      "[nltk_data]     C:\\Users\\timah\\AppData\\Roaming\\nltk_data...\n",
      "[nltk_data]   Package punkt is already up-to-date!\n"
     ]
    },
    {
     "name": "stdout",
     "output_type": "stream",
     "text": [
      "By Clemente Lisi – NEW YORK, NY (Jun 6, 2022) US Soccer Players – It was 20 years ago that the USMNT stunned the world and reached the quarterfinals of the World Cup. The 2002 Korea/Japan edition of the tournament was a turning point for the team and soccer as a whole in this country. It showed the world that, for the first time in the modern era, the USMNT could compete at a very high level. It also showed that soccer was continuing to grow a bigger audience after the country’s embrace of the 1999 US Women’s World Cup squad.\n",
      "\n",
      "The post-NASL years of the mid-1980s and early ’90s seemed like an ongoing debate about how soccer couldn’t make it in America. The sometimes-heated conversations of the time included silly talking points about how the game was “too ethnic” and “too slow.” There wasn’t enough scoring and that the American public was just too entrenched in watching the major North American sports.\n",
      "\n",
      "By 1990 the USA was playing at the World Cup and hosted the next one. MLS launched in 1996. Over the next six years leading up to the 2002 World Cup, the game grew as the USMNT and MLS helped to give the sport more exposure alongside the WNT hosting the 1999 World Cup . Anyone under the age of 35 has no idea just how obscure and niche soccer used to be.\n",
      "\n",
      "At some point this century, those anti-soccer arguments seemed to disappear. The internet’s ability to connect Americans to the Premier League and the UEFA Champions League certainly helped as top-class soccer became part of their sports diets. At the same time, the growth of MLS to more markets and the USMNT’s success both regionally and at the World Cup helped a new generation embrace soccer more than older ones ever had.\n",
      "\n",
      "While soccer, like other sports, uses statistics to assess who’s up or down, we can use metrics to gauge where soccer is in this country. More importantly, it can be a measure of how far it has come.\n",
      "\n",
      "In 1994, for example, this country still seemed skeptical about soccer. A Harris poll conducted on the eve of USA ’94 found that only 20% of the American public knew the World Cup was happening in the United States. As The New York Times put it at the time, “The rest of the world, on the other hand, can be found on the couch with a remote control device in hand.”\n",
      "\n",
      "Where are we now? A series of new surveys tried to assess where soccer is in this country 28 years later. A Morning Consult poll, conducted in April, shows that soccer has grown. The highlights: 32% of US adults said they consider themselves soccer fans, including 7% who said they are “avid fans.” In terms of demographics, the survey found that 54% of respondents were interested in soccer, a greater share than any of the big four North American sports.\n",
      "\n",
      "“Unlike other sports, in which the top North American leagues essentially have monopolies on top-level competition, soccer fans’ interest in the sport is spread among MLS, Liga MX and several major European leagues, as well as international competition,” the poll found. “While MLS has grown in-person attendance to more than 20,000 per game and expanded to 29 markets, its TV viewership has suffered in part due to competition with other leagues.”\n",
      "\n",
      "This will only see more interest and growth come November when the World Cup kicks off in Qatar. Another survey, the Seton Hall Sports Poll conducted by their Stillman School of Business, also tackled the public’s interest in the game.\n",
      "\n",
      "When the poll asked about viewing plans in March, before the USMNT qualified for Qatar, 34% of sports fans, 49% of avid fans, and 21% of the general population expressed interest in watching the World Cup. Eight weeks later, once the US qualified and the poll asked the question again, the numbers grew: 63% of avid fans, 46% of sports fans and 30% of the general public said they’d watch the World Cup.\n",
      "\n",
      "Qatar 2022 presents US sports fans with an interesting situation. Unlike past tournaments that take place in the summer, this World Cup will occur in the winter. The already-packed sports calendar that time of year, dominated by the NFL, will test just how much Americans are willing to embrace soccer further during a busy time on the schedule.\n",
      "\n",
      "Certainly, the USMNT’s group match against England, which will take place on Black Friday during the four-day Thanksgiving weekend, could be a ratings boon. People will be home with no overlap from NFL games. The top 10 most-watched soccer games in US history all took place at either the Men’s or Women’s World Cup, according to a list maintained by The Philadelphia Inquirer’s Jonathan Tannenwald.\n",
      "\n",
      "The USMNT takes up three of those spots. The highest- with the game against Portugal at the 2014 World Cup in Brazil broadcast by ESPN and Univision in 3rd-place behind the 2014 World Cup final won by Germany against Argentina (which aired on ABC and Univision), and the Women’s World Cup final (broadcast by Fox and Telemundo) the following summer that saw the USWNT defeat Japan.\n",
      "\n",
      "The Seton Hall poll also found that US sports fans aren’t shy about paying to watch the game: 50% saying they subscribe to one or more streaming services in order to watch – a number that rises to 71% for avid fans.\n",
      "\n",
      "These numbers indicate that Qatar 2022 could shatter viewing records. It also shows that soccer is more mainstream now than ever before. It may no longer be a question of whether soccer can make it in this country. Instead, it’s how much bigger can the audience in the United States become?\n",
      "\n",
      "Clemente Lisi is a regular contributor to US Soccer Players. He is also the author of A History of the World Cup: 1930-2018.\n",
      "\n",
      "More from Clemente Lisi:\n",
      "\n",
      "Photo by Martin Rickett – PA Wire via ZUMA Press – ISIPhotos.com\n",
      "['By Clemente Lisi – NEW YORK, NY (Jun 6, 2022) US Soccer Players – It was 20 years ago that the USMNT stunned the world and reached the quarterfinals of the World Cup.', 'The 2002 Korea/Japan edition of the tournament was a turning point for the team and soccer as a whole in this country.', 'It showed the world that, for the first time in the modern era, the USMNT could compete at a very high level.', 'It also showed that soccer was continuing to grow a bigger audience after the country’s embrace of the 1999 US Women’s World Cup squad.', 'The post-NASL years of the mid-1980s and early ’90s seemed like an ongoing debate about how soccer couldn’t make it in America.', 'The sometimes-heated conversations of the time included silly talking points about how the game was “too ethnic” and “too slow.” There wasn’t enough scoring and that the American public was just too entrenched in watching the major North American sports.', 'By 1990 the USA was playing at the World Cup and hosted the next one.', 'MLS launched in 1996.', 'Over the next six years leading up to the 2002 World Cup, the game grew as the USMNT and MLS helped to give the sport more exposure alongside the WNT hosting the 1999 World Cup .', 'Anyone under the age of 35 has no idea just how obscure and niche soccer used to be.', 'At some point this century, those anti-soccer arguments seemed to disappear.', 'The internet’s ability to connect Americans to the Premier League and the UEFA Champions League certainly helped as top-class soccer became part of their sports diets.', 'At the same time, the growth of MLS to more markets and the USMNT’s success both regionally and at the World Cup helped a new generation embrace soccer more than older ones ever had.', 'While soccer, like other sports, uses statistics to assess who’s up or down, we can use metrics to gauge where soccer is in this country.', 'More importantly, it can be a measure of how far it has come.', 'In 1994, for example, this country still seemed skeptical about soccer.', 'A Harris poll conducted on the eve of USA ’94 found that only 20% of the American public knew the World Cup was happening in the United States.', 'As The New York Times put it at the time, “The rest of the world, on the other hand, can be found on the couch with a remote control device in hand.”\\n\\nWhere are we now?', 'A series of new surveys tried to assess where soccer is in this country 28 years later.', 'A Morning Consult poll, conducted in April, shows that soccer has grown.', 'The highlights: 32% of US adults said they consider themselves soccer fans, including 7% who said they are “avid fans.” In terms of demographics, the survey found that 54% of respondents were interested in soccer, a greater share than any of the big four North American sports.', '“Unlike other sports, in which the top North American leagues essentially have monopolies on top-level competition, soccer fans’ interest in the sport is spread among MLS, Liga MX and several major European leagues, as well as international competition,” the poll found.', '“While MLS has grown in-person attendance to more than 20,000 per game and expanded to 29 markets, its TV viewership has suffered in part due to competition with other leagues.”\\n\\nThis will only see more interest and growth come November when the World Cup kicks off in Qatar.', 'Another survey, the Seton Hall Sports Poll conducted by their Stillman School of Business, also tackled the public’s interest in the game.', 'When the poll asked about viewing plans in March, before the USMNT qualified for Qatar, 34% of sports fans, 49% of avid fans, and 21% of the general population expressed interest in watching the World Cup.', 'Eight weeks later, once the US qualified and the poll asked the question again, the numbers grew: 63% of avid fans, 46% of sports fans and 30% of the general public said they’d watch the World Cup.', 'Qatar 2022 presents US sports fans with an interesting situation.', 'Unlike past tournaments that take place in the summer, this World Cup will occur in the winter.', 'The already-packed sports calendar that time of year, dominated by the NFL, will test just how much Americans are willing to embrace soccer further during a busy time on the schedule.', 'Certainly, the USMNT’s group match against England, which will take place on Black Friday during the four-day Thanksgiving weekend, could be a ratings boon.', 'People will be home with no overlap from NFL games.', 'The top 10 most-watched soccer games in US history all took place at either the Men’s or Women’s World Cup, according to a list maintained by The Philadelphia Inquirer’s Jonathan Tannenwald.', 'The USMNT takes up three of those spots.', 'The highest- with the game against Portugal at the 2014 World Cup in Brazil broadcast by ESPN and Univision in 3rd-place behind the 2014 World Cup final won by Germany against Argentina (which aired on ABC and Univision), and the Women’s World Cup final (broadcast by Fox and Telemundo) the following summer that saw the USWNT defeat Japan.', 'The Seton Hall poll also found that US sports fans aren’t shy about paying to watch the game: 50% saying they subscribe to one or more streaming services in order to watch – a number that rises to 71% for avid fans.', 'These numbers indicate that Qatar 2022 could shatter viewing records.', 'It also shows that soccer is more mainstream now than ever before.', 'It may no longer be a question of whether soccer can make it in this country.', 'Instead, it’s how much bigger can the audience in the United States become?', 'Clemente Lisi is a regular contributor to US Soccer Players.', 'He is also the author of A History of the World Cup: 1930-2018.', 'More from Clemente Lisi:\\n\\nPhoto by Martin Rickett – PA Wire via ZUMA Press – ISIPhotos.com']\n"
     ]
    }
   ],
   "source": [
    "nltk.download(\"punkt\")\n",
    "article=Article(\"https://ussoccerplayers.com/2022/06/the-changing-perception-of-soccer-in-the-united-states.html#:~:text=The%20highlights%3A%2032%25%20of%20US,big%20four%20North%20American%20sports.\")\n",
    "article.download()\n",
    "article.parse()\n",
    "corpus=article.text\n",
    "print(corpus)\n",
    "#tokenization\n",
    "text=corpus\n",
    "sentence_list=nltk.sent_tokenize(text) #A list of sentences\n",
    "#Print the list of sentences\n",
    "print(sentence_list)"
   ]
  },
  {
   "cell_type": "code",
   "execution_count": 4,
   "id": "3c80f888",
   "metadata": {},
   "outputs": [],
   "source": [
    "#Random response to greeting\n",
    "# this section will anticipate a greeting from the user and give an appropriate greeting back\n",
    "def greeting_response(text):\n",
    "    text=text.lower()\n",
    "#Bots greeting\n",
    "    bot_greetings=[\"howdy\",\"hi\",\"hola\",\"hey\",\"hello\"]\n",
    " #User Greetings\n",
    "    user_greetings=[\"wassup\",\"howdy\",\"hi\",\"hola\",\"hey\",\"hello\"]\n",
    "    for word in text.split():\n",
    "        if word in user_greetings:\n",
    "            return random.choice(bot_greetings)\n",
    "#Random response to greeting\n"
   ]
  },
  {
   "cell_type": "code",
   "execution_count": 5,
   "id": "2b8790b8",
   "metadata": {},
   "outputs": [],
   "source": [
    "#Bots gratitude\n",
    "#this section will detect if the user is thanking the bot for a good response, and give a proper response saying youre welcome\n",
    "def gratitude_response(text):\n",
    "    text=text.lower()\n",
    "    bot_gratitude=[\"Glad to help\",\"You are most welcome\", \"Pleasure to be of help\"]\n",
    "#User Gratitude\n",
    "    user_gratitude=[\"Thank you so much\",\"grateful\",\"Thank you\",\"thank you\",\"thank you\", \"thanks\"]\n",
    "    for word in text.split():\n",
    "        if word in user_gratitude:\n",
    "            return random.choice(bot_gratitude)"
   ]
  },
  {
   "cell_type": "code",
   "execution_count": 6,
   "id": "6c909324",
   "metadata": {},
   "outputs": [],
   "source": [
    "# Default title text\n",
    "def index_sort(list_var):\n",
    "    length=len(list_var)\n",
    "    list_index=list(range(0,length))\n",
    "    x=list_var\n",
    "    for i in range(length):\n",
    "        for j in range(length):\n",
    "            if x[list_index[i]]>x[list_index[j]]:\n",
    "#swap\n",
    "                temp=list_index[i]\n",
    "                list_index[i]=list_index[j]\n",
    "                list_index[j]=temp\n",
    "    return list_index"
   ]
  },
  {
   "cell_type": "code",
   "execution_count": 7,
   "id": "0286fe1b",
   "metadata": {},
   "outputs": [],
   "source": [
    "#Creat Bots Response\n",
    "#this section generates a response to a unique question by using a list of sentences from \n",
    "# the article and seeing if any of the questions match what the user is asking about\n",
    "def bot_response(user_input):\n",
    "    user_input=user_input.lower()\n",
    "    sentence_list.append(user_input)\n",
    "    bot_response=\"\"\n",
    "    cm=CountVectorizer().fit_transform(sentence_list)\n",
    "    similarity_scores=cosine_similarity(cm[-1],cm)\n",
    "    similarity_scores_list=similarity_scores.flatten()\n",
    "    index=index_sort(similarity_scores_list)\n",
    "    index=index[1:]\n",
    "    response_flag=0\n",
    "    j=0\n",
    "    for i in range(len(index)):\n",
    "        if similarity_scores_list[index[i]]>0.0:\n",
    "            bot_response=bot_response+' '+sentence_list[index[i]]\n",
    "            response_flag=1\n",
    "            j=j+1\n",
    "        if j>2:\n",
    "            break\n",
    "        if response_flag==0:\n",
    "            #bot_response=bot_response+\" \"+\"I apologize, I dont understand\"\n",
    "            bot_response = \"I apologize, I dont understand\"\n",
    "    sentence_list.remove(user_input)\n",
    "    return bot_response"
   ]
  },
  {
   "cell_type": "code",
   "execution_count": 9,
   "id": "807f45bc",
   "metadata": {
    "scrolled": true
   },
   "outputs": [
    {
     "name": "stdout",
     "output_type": "stream",
     "text": [
      "Soccer Bot: I am Soccer Bot and I will answer your queries about the sport of soccer in the United States, if you want to exit type, bye\n",
      "hi\n",
      "Soccer Bot: howdy\n",
      "thanks\n",
      "Soccer Bot: Pleasure to be of help\n",
      "when is the world cup?\n",
      "Soccer Bot:  He is also the author of A History of the World Cup: 1930-2018. Over the next six years leading up to the 2002 World Cup, the game grew as the USMNT and MLS helped to give the sport more exposure alongside the WNT hosting the 1999 World Cup . By 1990 the USA was playing at the World Cup and hosted the next one.\n",
      "dempsey\n",
      "Soccer Bot: I apologize, I dont understand\n",
      "is clint dempsey american?\n",
      "Soccer Bot:  Clemente Lisi is a regular contributor to US Soccer Players. It also shows that soccer is more mainstream now than ever before. “Unlike other sports, in which the top North American leagues essentially have monopolies on top-level competition, soccer fans’ interest in the sport is spread among MLS, Liga MX and several major European leagues, as well as international competition,” the poll found.\n",
      "landon donovan\n",
      "Soccer Bot: I apologize, I dont understand\n",
      "clemente lisi\n",
      "Soccer Bot:  Clemente Lisi is a regular contributor to US Soccer Players. More from Clemente Lisi:\n",
      "\n",
      "Photo by Martin Rickett – PA Wire via ZUMA Press – ISIPhotos.com By Clemente Lisi – NEW YORK, NY (Jun 6, 2022) US Soccer Players – It was 20 years ago that the USMNT stunned the world and reached the quarterfinals of the World Cup.\n",
      "who is martin rickett\n",
      "Soccer Bot:  More from Clemente Lisi:\n",
      "\n",
      "Photo by Martin Rickett – PA Wire via ZUMA Press – ISIPhotos.com While soccer, like other sports, uses statistics to assess who’s up or down, we can use metrics to gauge where soccer is in this country. Clemente Lisi is a regular contributor to US Soccer Players.\n",
      "thanks\n",
      "Soccer Bot: Pleasure to be of help\n",
      "bye\n",
      "Soccer Bot: Bye Bye See you later\n"
     ]
    }
   ],
   "source": [
    "#Start Chat\n",
    "#this section will welcome the user and introduce the \"Soccer Bot\"\n",
    "# it utilizes the previous functions and sends the user question and \n",
    "# prints out a response from these sections\n",
    "print(\"Soccer Bot: I am Soccer Bot and I will answer your queries about the sport of soccer in the United States, if you want to exit type, bye\")\n",
    "exit_list=['exit','bye','see you later','quit']\n",
    "while(True):\n",
    "    user_input=input()\n",
    "    if user_input.lower() in exit_list:\n",
    "        print(\"Soccer Bot: Bye Bye See you later\")\n",
    "        break\n",
    "    elif greeting_response(user_input)!= None:\n",
    "        print(\"Soccer Bot: \"+ greeting_response(user_input))\n",
    "    elif gratitude_response(user_input)!= None:\n",
    "        print(\"Soccer Bot: \"+ gratitude_response(user_input))\n",
    "    else:\n",
    "        print(\"Soccer Bot: \"+ bot_response(user_input))"
   ]
  },
  {
   "cell_type": "code",
   "execution_count": 9,
   "id": "b70e0c3a",
   "metadata": {},
   "outputs": [],
   "source": [
    "\n"
   ]
  },
  {
   "cell_type": "code",
   "execution_count": null,
   "id": "4ea72110",
   "metadata": {},
   "outputs": [],
   "source": []
  }
 ],
 "metadata": {
  "kernelspec": {
   "display_name": "Python 3 (ipykernel)",
   "language": "python",
   "name": "python3"
  },
  "language_info": {
   "codemirror_mode": {
    "name": "ipython",
    "version": 3
   },
   "file_extension": ".py",
   "mimetype": "text/x-python",
   "name": "python",
   "nbconvert_exporter": "python",
   "pygments_lexer": "ipython3",
   "version": "3.11.7"
  }
 },
 "nbformat": 4,
 "nbformat_minor": 5
}
